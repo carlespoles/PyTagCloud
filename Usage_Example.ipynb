{
 "cells": [
  {
   "cell_type": "markdown",
   "metadata": {},
   "source": [
    "## Usage Example of PyTagCloud to Create a Visualization."
   ]
  },
  {
   "cell_type": "code",
   "execution_count": 9,
   "metadata": {
    "collapsed": false
   },
   "outputs": [
    {
     "name": "stdout",
     "output_type": "stream",
     "text": [
      "the\n",
      "quick\n",
      "brown\n",
      "fox\n",
      "jumps\n",
      "over\n",
      "the\n",
      "lazy\n",
      "dog\n",
      "while\n",
      "the\n",
      "red\n",
      "fox\n",
      "sleeps\n"
     ]
    },
    {
     "data": {
      "text/plain": [
       "True"
      ]
     },
     "execution_count": 9,
     "metadata": {},
     "output_type": "execute_result"
    }
   ],
   "source": [
    "import os\n",
    "import webbrowser\n",
    "from pytagcloud import create_tag_image, make_tags\n",
    "from pytagcloud.lang.counter import get_tag_counts\n",
    "\n",
    "YOUR_TEXT = \"The quick brown fox jumps over the lazy dog while the red fox sleeps.\"\n",
    "tags = make_tags(get_tag_counts(YOUR_TEXT), maxsize=120)\n",
    "\n",
    "# File is saved here: /Users/carles/PyTagCloud/\n",
    "create_tag_image(tags, 'cloud_large.png', size=(900, 600), fontname='Lobster')\n",
    "\n",
    "# MacOS\n",
    "chrome_path = 'open -a /Applications/Google\\ Chrome.app %s'\n",
    "\n",
    "# If we want to open a URL:\n",
    "#url = 'http://docs.python.org/'\n",
    "#webbrowser.get(chrome_path).open(url)\n",
    "\n",
    "# Open file in Chrome browser:\n",
    "filename = 'cloud_large.png'\n",
    "\n",
    "webbrowser.get(chrome_path).open('file://' + os.path.realpath(filename))"
   ]
  },
  {
   "cell_type": "code",
   "execution_count": null,
   "metadata": {
    "collapsed": true
   },
   "outputs": [],
   "source": []
  }
 ],
 "metadata": {
  "kernelspec": {
   "display_name": "Python [project_nlp]",
   "language": "python",
   "name": "Python [project_nlp]"
  },
  "language_info": {
   "codemirror_mode": {
    "name": "ipython",
    "version": 3
   },
   "file_extension": ".py",
   "mimetype": "text/x-python",
   "name": "python",
   "nbconvert_exporter": "python",
   "pygments_lexer": "ipython3",
   "version": "3.5.2"
  }
 },
 "nbformat": 4,
 "nbformat_minor": 0
}
